{
 "cells": [
  {
   "cell_type": "markdown",
   "id": "223c9b41",
   "metadata": {},
   "source": [
    "# 13/12/22"
   ]
  },
  {
   "cell_type": "code",
   "execution_count": 133,
   "id": "9f9be074",
   "metadata": {},
   "outputs": [],
   "source": [
    "def sumofnum(a,b):\n",
    "    print(a+b)"
   ]
  },
  {
   "cell_type": "code",
   "execution_count": 8,
   "id": "85ab46ca",
   "metadata": {},
   "outputs": [
    {
     "name": "stdout",
     "output_type": "stream",
     "text": [
      "4\n",
      "50.285714285714285\n",
      "25.142857142857142\n"
     ]
    }
   ],
   "source": [
    "r=int(input())\n",
    "area=(22/7*r*r)\n",
    "circum=(2*22/7*r)\n",
    "print(area)\n",
    "print(circum)"
   ]
  },
  {
   "cell_type": "code",
   "execution_count": 161,
   "id": "b421e8e6",
   "metadata": {},
   "outputs": [
    {
     "name": "stdout",
     "output_type": "stream",
     "text": [
      "enter roll no:5\n",
      "enter grade :A\n",
      "enter percentage:45\n",
      "5\n",
      "A\n",
      "45\n"
     ]
    }
   ],
   "source": [
    "roll_no=input(\"enter roll no:\")\n",
    "grade=input(\"enter grade :\")\n",
    "percent=input(\"enter percentage:\")\n",
    "print(roll_no)\n",
    "print(grade)\n",
    "print(percent)"
   ]
  },
  {
   "cell_type": "code",
   "execution_count": 1,
   "id": "e44efc25",
   "metadata": {},
   "outputs": [
    {
     "name": "stdout",
     "output_type": "stream",
     "text": [
      "Enter your name :prajesh\n",
      "Enter your age24\n",
      "prajesh You will turn 100 years old in  2098 years\n"
     ]
    }
   ],
   "source": [
    "aa = input(\"Enter your name :\")\n",
    "bb = int(input(\"Enter your age\"))\n",
    "cc = 2022-bb\n",
    "cc += 100\n",
    "print(aa, \"You will turn 100 years old in \", cc, \"years\")"
   ]
  },
  {
   "cell_type": "code",
   "execution_count": 164,
   "id": "928d37d2",
   "metadata": {},
   "outputs": [
    {
     "name": "stdout",
     "output_type": "stream",
     "text": [
      "2 3\n",
      "5\n"
     ]
    }
   ],
   "source": [
    "n=list(map(int,input().split()))\n",
    "print(sum(n))"
   ]
  },
  {
   "cell_type": "code",
   "execution_count": 168,
   "id": "32dccc5c",
   "metadata": {},
   "outputs": [
    {
     "name": "stdout",
     "output_type": "stream",
     "text": [
      "prajesh kshirsagar\n",
      "ragasrihsk hsejarp\n"
     ]
    }
   ],
   "source": [
    "string=str(input())\n",
    "print(string[::-1])"
   ]
  },
  {
   "cell_type": "markdown",
   "id": "0444ef65",
   "metadata": {},
   "source": [
    "# 15/12/22"
   ]
  },
  {
   "cell_type": "code",
   "execution_count": 2,
   "id": "b552f308",
   "metadata": {},
   "outputs": [
    {
     "name": "stdout",
     "output_type": "stream",
     "text": [
      "8\n",
      "even\n"
     ]
    }
   ],
   "source": [
    "x=int(input())\n",
    "if x%2==0:\n",
    "    print(\"even\")\n",
    "else:\n",
    "    print(\"odd\")"
   ]
  },
  {
   "cell_type": "code",
   "execution_count": 3,
   "id": "8c4107f2",
   "metadata": {},
   "outputs": [
    {
     "name": "stdout",
     "output_type": "stream",
     "text": [
      "A\n",
      "capital\n"
     ]
    }
   ],
   "source": [
    "z=str(input())\n",
    "if z==z.lower():\n",
    "    print(\"small\")\n",
    "\n",
    "else:\n",
    "    print(\"capital\")"
   ]
  },
  {
   "cell_type": "code",
   "execution_count": 118,
   "id": "b6702866",
   "metadata": {},
   "outputs": [
    {
     "name": "stdout",
     "output_type": "stream",
     "text": [
      "enter:#\n",
      "special\n"
     ]
    }
   ],
   "source": [
    "\n",
    "\n",
    "z=input(\"enter:\")\n",
    "if z >= 'a' and z <= 'z':\n",
    "    print(\"small\")\n",
    "elif z >= 'A' and z <= 'Z':\n",
    "    print(\"capital\")\n",
    "elif(z>= '0' and z <= '9'):\n",
    "    print(\"digit\")\n",
    "else:\n",
    "    print(\"special\")\n",
    "\n",
    "\n"
   ]
  },
  {
   "cell_type": "code",
   "execution_count": 1,
   "id": "cf6990a6",
   "metadata": {},
   "outputs": [
    {
     "name": "stdout",
     "output_type": "stream",
     "text": [
      "3\n",
      "1 2 3\n",
      "3\n"
     ]
    }
   ],
   "source": [
    "n=int(input())\n",
    "x=list(map(int,input().split()))\n",
    "print(max(x))\n",
    "\n",
    "    "
   ]
  },
  {
   "cell_type": "code",
   "execution_count": 7,
   "id": "51261b46",
   "metadata": {},
   "outputs": [
    {
     "name": "stdout",
     "output_type": "stream",
     "text": [
      "enter a year:2017\n",
      "it is not a leap year\n"
     ]
    }
   ],
   "source": [
    "year=int(input(\"enter a year:\"))\n",
    "if year%4==0 and year%400==0:\n",
    "    print(\"it is leap year\")\n",
    "else:\n",
    "    print('it is not a leap year')"
   ]
  },
  {
   "cell_type": "code",
   "execution_count": 172,
   "id": "3b70173e",
   "metadata": {},
   "outputs": [
    {
     "name": "stdout",
     "output_type": "stream",
     "text": [
      "secret no: 4\n",
      "Enter your number: 3\n",
      "Number is too small.\n",
      "Enter your number: 6\n",
      "Number is too large\n",
      "Enter your number: 4\n",
      "Congratulations! You guessed it right\n"
     ]
    }
   ],
   "source": [
    "import random\n",
    "number =int(input(\"secret no: \"))\n",
    "your_number = int(input(\"Enter your number: \"))\n",
    "while number != your_number:\n",
    "    if your_number==0 or your_number<0:\n",
    "        break\n",
    "    if your_number> number:\n",
    "        print(\"Number is too large\")\n",
    "        your_number = int(input(\"Enter your number: \"))\n",
    "    elif your_number < number:\n",
    "        print(\"Number is too small.\")\n",
    "        your_number = int(input(\"Enter your number: \"))\n",
    "print(\"Congratulations! You guessed it right\")\n",
    "    \n"
   ]
  },
  {
   "cell_type": "code",
   "execution_count": 7,
   "id": "1ef4419f",
   "metadata": {},
   "outputs": [
    {
     "name": "stdout",
     "output_type": "stream",
     "text": [
      "prajesh\n",
      "p\n",
      "r\n",
      "j\n",
      "s\n",
      "h\n"
     ]
    }
   ],
   "source": [
    "str = input()\n",
    "\n",
    "i = 0\n",
    "while i<len(str):\n",
    "    if str[i] not in 'aeiou':\n",
    "        print(str[i])\n",
    "    i=i+1"
   ]
  },
  {
   "cell_type": "code",
   "execution_count": 22,
   "id": "a1cc007d",
   "metadata": {},
   "outputs": [
    {
     "name": "stdout",
     "output_type": "stream",
     "text": [
      "1\n",
      "2\n",
      "3\n",
      "50\n",
      "0\n",
      "56\n"
     ]
    }
   ],
   "source": [
    "lst=[]\n",
    "while True:\n",
    "\n",
    "    i=int(input())\n",
    "    if i<=0:\n",
    "        break\n",
    "    \n",
    "    lst.append(i)\n",
    "    \n",
    "print(sum(lst))\n",
    "\n",
    "            \n",
    "        "
   ]
  },
  {
   "cell_type": "code",
   "execution_count": 4,
   "id": "411262f4",
   "metadata": {},
   "outputs": [
    {
     "name": "stdout",
     "output_type": "stream",
     "text": [
      "prajesh kshirsagar\n",
      "p\n",
      "r\n",
      "j\n",
      "s\n",
      "h\n",
      " \n",
      "k\n",
      "s\n",
      "h\n",
      "r\n",
      "s\n",
      "g\n",
      "r\n"
     ]
    }
   ],
   "source": [
    "\"\"\"\"Write a program to accept a string from the user and display it vertically but don’t display the vowels in it.\"\"\"\n",
    "x=['a','e','i','o','u']\n",
    "q=[]\n",
    "z=str(input())\n",
    "for i in z:\n",
    "    if i not in x:\n",
    "        q.append(i)\n",
    "for j in q:\n",
    "    print(j)\n",
    "\n"
   ]
  },
  {
   "cell_type": "code",
   "execution_count": 5,
   "id": "db11796a",
   "metadata": {},
   "outputs": [
    {
     "name": "stdout",
     "output_type": "stream",
     "text": [
      "5\n",
      "15\n"
     ]
    }
   ],
   "source": [
    "n=int(input())\n",
    "lst=[]\n",
    "for i in range(1,n+1):\n",
    "    lst.append(i)\n",
    "print(sum(lst))"
   ]
  },
  {
   "cell_type": "code",
   "execution_count": 6,
   "id": "ee62c1c3",
   "metadata": {},
   "outputs": [
    {
     "name": "stdout",
     "output_type": "stream",
     "text": [
      "5\n",
      "120\n"
     ]
    }
   ],
   "source": [
    "n=int(input())\n",
    "count=1\n",
    "for i in range(1,n+1):\n",
    "    count=count*i\n",
    "print(count)\n",
    "    \n",
    "    "
   ]
  },
  {
   "cell_type": "code",
   "execution_count": 25,
   "id": "eee6d7e6",
   "metadata": {},
   "outputs": [
    {
     "name": "stdout",
     "output_type": "stream",
     "text": [
      "****\n",
      "****\n",
      "****\n",
      "****\n"
     ]
    }
   ],
   "source": [
    "n = 4\n",
    "for i in range(0, n):\n",
    "    for j in range(0, n):\n",
    "        print(\"*\", end=\"\")\n",
    "    print()"
   ]
  },
  {
   "cell_type": "code",
   "execution_count": 23,
   "id": "b9ebcb98",
   "metadata": {},
   "outputs": [
    {
     "name": "stdout",
     "output_type": "stream",
     "text": [
      "*\n",
      "**\n",
      "***\n",
      "****\n",
      "*****\n"
     ]
    }
   ],
   "source": [
    "a = 5\n",
    "for i in range(0,a):\n",
    "    print((i+1) * \"*\")"
   ]
  },
  {
   "cell_type": "code",
   "execution_count": 28,
   "id": "3ed1211a",
   "metadata": {},
   "outputs": [
    {
     "name": "stdout",
     "output_type": "stream",
     "text": [
      "****\n",
      "***\n",
      "**\n",
      "*\n"
     ]
    }
   ],
   "source": [
    "n = 4\n",
    "for i in range(n, 0, -1):\n",
    "    for j in range(0, i):\n",
    "        print(\"*\", end=\"\")\n",
    "    print()"
   ]
  },
  {
   "cell_type": "code",
   "execution_count": 55,
   "id": "f7c5e1ac",
   "metadata": {},
   "outputs": [
    {
     "name": "stdout",
     "output_type": "stream",
     "text": [
      "5\n",
      "1\n",
      "2\n",
      "3\n",
      "4\n",
      "5\n",
      "6\n",
      "1\n",
      "2\n",
      "3\n",
      "4\n",
      "5\n",
      "6\n",
      "0\n"
     ]
    }
   ],
   "source": [
    "\n",
    "while True:\n",
    "    i=int(input())\n",
    "    \n",
    "    if i==0:\n",
    "        break\n",
    "    else:\n",
    "        for i in range(1,i+1):\n",
    "            print(i)\n",
    "    "
   ]
  },
  {
   "cell_type": "code",
   "execution_count": null,
   "id": "0e2f1d4d",
   "metadata": {},
   "outputs": [],
   "source": []
  }
 ],
 "metadata": {
  "kernelspec": {
   "display_name": "Python 3",
   "language": "python",
   "name": "python3"
  },
  "language_info": {
   "codemirror_mode": {
    "name": "ipython",
    "version": 3
   },
   "file_extension": ".py",
   "mimetype": "text/x-python",
   "name": "python",
   "nbconvert_exporter": "python",
   "pygments_lexer": "ipython3",
   "version": "3.8.8"
  }
 },
 "nbformat": 4,
 "nbformat_minor": 5
}
